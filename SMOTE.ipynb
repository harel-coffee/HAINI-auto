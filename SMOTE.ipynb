{
 "cells": [
  {
   "cell_type": "code",
   "execution_count": 1,
   "metadata": {},
   "outputs": [],
   "source": [
    "# Generate and plot a synthetic imbalanced classification dataset\n",
    "from sklearn.linear_model import LogisticRegression\n",
    "from sklearn.ensemble import RandomForestClassifier\n",
    "from sklearn.model_selection import StratifiedKFold\n",
    "from sklearn.metrics import accuracy_score\n",
    "from sklearn.metrics import classification_report\n",
    "from sklearn.ensemble import GradientBoostingClassifier\n",
    "from sklearn.svm import SVC\n",
    "from collections import Counter\n",
    "from sklearn.datasets import make_classification\n",
    "from imblearn.over_sampling import SMOTE\n",
    "from imblearn.under_sampling import RandomUnderSampler\n",
    "from imblearn.pipeline import Pipeline\n",
    "from matplotlib import pyplot\n",
    "from numpy import where\n",
    "import pandas as pd"
   ]
  },
  {
   "cell_type": "code",
   "execution_count": 2,
   "metadata": {},
   "outputs": [],
   "source": [
    "df = pd.read_csv('Feature_reduced_bestfit.csv')\n",
    "df.head()\n",
    "\n",
    "X = df.drop('Label', axis=1)\n",
    "Y = df['Label']"
   ]
  },
  {
   "cell_type": "code",
   "execution_count": 3,
   "metadata": {},
   "outputs": [
    {
     "data": {
      "text/plain": [
       "((67317, 96), (67317,))"
      ]
     },
     "execution_count": 3,
     "metadata": {},
     "output_type": "execute_result"
    }
   ],
   "source": [
    "X.shape, Y.shape"
   ]
  },
  {
   "cell_type": "code",
   "execution_count": 6,
   "metadata": {},
   "outputs": [
    {
     "name": "stdout",
     "output_type": "stream",
     "text": [
      "(77562, 96) (77562,)\n"
     ]
    }
   ],
   "source": [
    "smote = SMOTE(sampling_strategy='minority')\n",
    "X_sm, Y_sm = smote.fit_sample(X,Y)\n",
    "print(X_sm.shape, Y_sm.shape)"
   ]
  },
  {
   "cell_type": "code",
   "execution_count": 20,
   "metadata": {},
   "outputs": [
    {
     "name": "stderr",
     "output_type": "stream",
     "text": [
      "C:\\Users\\Hoang Lee\\.conda\\envs\\SMOTE\\lib\\site-packages\\sklearn\\metrics\\_classification.py:1221: UndefinedMetricWarning: Precision and F-score are ill-defined and being set to 0.0 in labels with no predicted samples. Use `zero_division` parameter to control this behavior.\n",
      "  _warn_prf(average, modifier, msg_start, len(result))\n"
     ]
    },
    {
     "name": "stdout",
     "output_type": "stream",
     "text": [
      "Report:                precision    recall  f1-score   support\n",
      "\n",
      "   'Class 0'       0.80      0.38      0.51        85\n",
      "   'Class 1'       1.00      0.71      0.83        17\n",
      "  'Class 10'       1.00      0.14      0.25        14\n",
      "  'Class 11'       0.44      0.32      0.37        22\n",
      "  'Class 12'       0.86      0.55      0.67        58\n",
      "  'Class 13'       0.50      0.16      0.24        74\n",
      "  'Class 14'       0.76      0.26      0.39       106\n",
      "  'Class 15'       0.76      0.61      0.68       633\n",
      "  'Class 16'       0.70      0.50      0.58       761\n",
      "  'Class 17'       0.82      0.88      0.85        32\n",
      "  'Class 18'       0.50      0.73      0.59        11\n",
      "  'Class 19'       0.50      0.17      0.25        42\n",
      "   'Class 2'       0.66      0.56      0.61       166\n",
      "  'Class 20'       0.77      0.82      0.79       117\n",
      "  'Class 21'       0.71      0.15      0.25        33\n",
      "  'Class 22'       0.60      0.18      0.27        17\n",
      "  'Class 23'       0.57      0.68      0.62      1710\n",
      "  'Class 24'       0.52      0.39      0.45      1008\n",
      "  'Class 25'       0.66      0.87      0.75      2013\n",
      "  'Class 26'       0.58      0.85      0.69      2060\n",
      "  'Class 27'       0.99      1.00      1.00      2059\n",
      "  'Class 28'       0.87      0.38      0.53        34\n",
      "  'Class 29'       0.69      0.59      0.63       275\n",
      "   'Class 3'       0.62      0.38      0.47       429\n",
      "  'Class 30'       0.88      0.33      0.48        84\n",
      "  'Class 31'       0.43      0.10      0.17        29\n",
      "  'Class 32'       0.67      0.23      0.34        62\n",
      "  'Class 33'       0.84      0.44      0.58        36\n",
      "  'Class 34'       0.60      0.47      0.53        97\n",
      "  'Class 35'       0.54      0.34      0.42       534\n",
      "  'Class 36'       0.53      0.41      0.47       646\n",
      "  'Class 37'       0.77      0.68      0.73       282\n",
      "  'Class 38'       0.76      0.70      0.73       545\n",
      "  'Class 39'       0.89      0.81      0.85        31\n",
      "   'Class 4'       0.63      0.68      0.65       784\n",
      "  'Class 40'       0.66      0.48      0.56        56\n",
      "  'Class 41'       0.75      0.51      0.61        88\n",
      "  'Class 42'       0.52      0.55      0.53        22\n",
      "  'Class 43'       0.83      0.88      0.86        17\n",
      "  'Class 44'       1.00      0.32      0.48        25\n",
      "  'Class 45'       0.83      0.81      0.82        36\n",
      "  'Class 46'       0.88      0.28      0.42        25\n",
      "  'Class 47'       0.00      0.00      0.00        10\n",
      "  'Class 48'       0.69      0.36      0.47        25\n",
      "  'Class 49'       1.00      0.12      0.21        17\n",
      "   'Class 5'       1.00      0.55      0.71        22\n",
      "  'Class 50'       0.46      0.50      0.48        12\n",
      "  'Class 51'       0.69      0.36      0.47       152\n",
      "   'Class 6'       0.79      0.34      0.48        32\n",
      "   'Class 7'       0.50      0.10      0.17        20\n",
      "   'Class 8'       0.80      0.11      0.19        37\n",
      "   'Class 9'       0.50      0.09      0.15        11\n",
      "\n",
      "    accuracy                           0.68     15513\n",
      "   macro avg       0.70      0.46      0.52     15513\n",
      "weighted avg       0.68      0.68      0.66     15513\n",
      "\n"
     ]
    },
    {
     "ename": "NameError",
     "evalue": "name 'batch_size' is not defined",
     "output_type": "error",
     "traceback": [
      "\u001b[1;31m---------------------------------------------------------------------------\u001b[0m",
      "\u001b[1;31mNameError\u001b[0m                                 Traceback (most recent call last)",
      "\u001b[1;32m<ipython-input-20-7370193edebf>\u001b[0m in \u001b[0;36m<module>\u001b[1;34m()\u001b[0m\n\u001b[0;32m     11\u001b[0m     \u001b[0mprint\u001b[0m\u001b[1;33m(\u001b[0m\u001b[1;34m'Report: '\u001b[0m\u001b[1;33m,\u001b[0m \u001b[0mclassification_report\u001b[0m\u001b[1;33m(\u001b[0m\u001b[0mY_sm\u001b[0m\u001b[1;33m.\u001b[0m\u001b[0miloc\u001b[0m\u001b[1;33m[\u001b[0m\u001b[0mtest\u001b[0m\u001b[1;33m]\u001b[0m\u001b[1;33m,\u001b[0m \u001b[0mpredictions\u001b[0m\u001b[1;33m)\u001b[0m\u001b[1;33m)\u001b[0m\u001b[1;33m\u001b[0m\u001b[1;33m\u001b[0m\u001b[0m\n\u001b[0;32m     12\u001b[0m     \u001b[0mcvscores\u001b[0m\u001b[1;33m.\u001b[0m\u001b[0mappend\u001b[0m\u001b[1;33m(\u001b[0m\u001b[0maccuracy_score\u001b[0m\u001b[1;33m(\u001b[0m\u001b[0mY_sm\u001b[0m\u001b[1;33m.\u001b[0m\u001b[0miloc\u001b[0m\u001b[1;33m[\u001b[0m\u001b[0mtest\u001b[0m\u001b[1;33m]\u001b[0m\u001b[1;33m,\u001b[0m \u001b[0mpredictions\u001b[0m\u001b[1;33m)\u001b[0m\u001b[1;33m)\u001b[0m\u001b[1;33m\u001b[0m\u001b[1;33m\u001b[0m\u001b[0m\n\u001b[1;32m---> 13\u001b[1;33m     \u001b[0mhistory\u001b[0m \u001b[1;33m=\u001b[0m \u001b[0mmodel\u001b[0m\u001b[1;33m.\u001b[0m\u001b[0mfit\u001b[0m\u001b[1;33m(\u001b[0m\u001b[0mX_sm\u001b[0m\u001b[1;33m,\u001b[0m \u001b[0mY_sm\u001b[0m\u001b[1;33m,\u001b[0m \u001b[0mbatch_size\u001b[0m \u001b[1;33m=\u001b[0m \u001b[0mbatch_size\u001b[0m\u001b[1;33m,\u001b[0m \u001b[0mepochs\u001b[0m \u001b[1;33m=\u001b[0m \u001b[0mnum_epochs\u001b[0m\u001b[1;33m,\u001b[0m \u001b[0mverbose\u001b[0m \u001b[1;33m=\u001b[0m \u001b[1;36m2\u001b[0m\u001b[1;33m,\u001b[0m \u001b[0mclass_weight\u001b[0m \u001b[1;33m=\u001b[0m \u001b[0mclass_weight\u001b[0m\u001b[1;33m,\u001b[0m \u001b[0mvalidation_split\u001b[0m \u001b[1;33m=\u001b[0m \u001b[1;36m0.3\u001b[0m\u001b[1;33m)\u001b[0m\u001b[1;33m\u001b[0m\u001b[1;33m\u001b[0m\u001b[0m\n\u001b[0m\u001b[0;32m     14\u001b[0m     \u001b[0mscore\u001b[0m\u001b[1;33m,\u001b[0m \u001b[0macc\u001b[0m \u001b[1;33m=\u001b[0m \u001b[0mmodel\u001b[0m\u001b[1;33m.\u001b[0m\u001b[0mevaluate\u001b[0m\u001b[1;33m(\u001b[0m\u001b[0mX_sm\u001b[0m\u001b[1;33m.\u001b[0m\u001b[0miloc\u001b[0m\u001b[1;33m[\u001b[0m\u001b[0mtest\u001b[0m\u001b[1;33m]\u001b[0m\u001b[1;33m,\u001b[0m \u001b[0mY_sm\u001b[0m\u001b[1;33m.\u001b[0m\u001b[0miloc\u001b[0m\u001b[1;33m[\u001b[0m\u001b[0mtest\u001b[0m\u001b[1;33m]\u001b[0m\u001b[1;33m,\u001b[0m \u001b[0mbatch_size\u001b[0m \u001b[1;33m=\u001b[0m \u001b[0mbatch_size\u001b[0m\u001b[1;33m,\u001b[0m \u001b[0mverbose\u001b[0m \u001b[1;33m=\u001b[0m \u001b[1;36m2\u001b[0m\u001b[1;33m)\u001b[0m\u001b[1;33m\u001b[0m\u001b[1;33m\u001b[0m\u001b[0m\n\u001b[0;32m     15\u001b[0m     \u001b[0mPrint\u001b[0m\u001b[1;33m(\u001b[0m\u001b[1;34m'Test accuracy:'\u001b[0m\u001b[1;33m,\u001b[0m\u001b[0macc\u001b[0m\u001b[1;33m)\u001b[0m\u001b[1;33m\u001b[0m\u001b[1;33m\u001b[0m\u001b[0m\n",
      "\u001b[1;31mNameError\u001b[0m: name 'batch_size' is not defined"
     ]
    }
   ],
   "source": [
    "kfold = StratifiedKFold(n_splits=5, shuffle=True)\n",
    "cvscores = []\n",
    "for train, test in kfold.split(X_sm, Y_sm):\n",
    "    model = RandomForestClassifier(bootstrap = True, max_depth = 200, \n",
    "                                   max_features = 'auto', min_samples_leaf=4, \n",
    "                                   min_samples_split=2, n_estimators = 1500) \n",
    "    ## evaluate the model\n",
    "    model.fit(X_sm.iloc[train], Y_sm.iloc[train])\n",
    "    #prediction\n",
    "    predictions = model.predict(X_sm.iloc[test])\n",
    "    print('Report: ', classification_report(Y_sm.iloc[test], predictions))\n",
    "    cvscores.append(accuracy_score(Y_sm.iloc[test], predictions))\n",
    "    history = model.fit(X_sm, Y_sm, batch_size = batch_size, epochs = num_epochs, verbose = 2, class_weight = class_weight, validation_split = 0.3)\n",
    "    score, acc = model.evaluate(X_sm.iloc[test], Y_sm.iloc[test], batch_size = batch_size, verbose = 2)\n",
    "    Print('Test accuracy:',acc)"
   ]
  },
  {
   "cell_type": "code",
   "execution_count": null,
   "metadata": {},
   "outputs": [],
   "source": []
  }
 ],
 "metadata": {
  "kernelspec": {
   "display_name": "Python 3",
   "language": "python",
   "name": "python3"
  },
  "language_info": {
   "codemirror_mode": {
    "name": "ipython",
    "version": 3
   },
   "file_extension": ".py",
   "mimetype": "text/x-python",
   "name": "python",
   "nbconvert_exporter": "python",
   "pygments_lexer": "ipython3",
   "version": "3.7.8"
  }
 },
 "nbformat": 4,
 "nbformat_minor": 4
}
